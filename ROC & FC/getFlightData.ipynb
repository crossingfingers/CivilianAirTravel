{
 "cells": [
  {
   "cell_type": "code",
   "execution_count": 31,
   "metadata": {},
   "outputs": [],
   "source": [
    "import sqlite3 as sql\n",
    "import os"
   ]
  },
  {
   "cell_type": "code",
   "execution_count": 32,
   "metadata": {},
   "outputs": [],
   "source": [
    "##gets ROC & Average Fuel consumption, based on aircraft weight, outside air temp & altitude\n",
    "def getFlightPointData(cursor, weight, temp, altitude):\n",
    "    sqlite_select_query = \"\"\"SELECT * from data where weight=? AND temp=? AND altitude=?\"\"\"\n",
    "    cursor.execute(sqlite_select_query,(weight,temp,altitude))\n",
    "    return cursor.fetchall()"
   ]
  },
  {
   "cell_type": "code",
   "execution_count": 54,
   "metadata": {},
   "outputs": [],
   "source": [
    "##gets averaged data, based on flight pattern, weight, fuel, starting parameters\n",
    "def getFlightData( aircraftType, flightPattern, weight, fuel, startTemp, endTemp,startAlt, endAlt):\n",
    "    cwd = os.getcwd()\n",
    "    try:\n",
    "        conn=sql.connect(cwd+\"\\\\database\\\\\"+aircraftType+\".\"+flightPattern+\".sqlite\")\n",
    "    except Error as e:\n",
    "        print(\"Could not connect to database...\")\n",
    "    \n",
    "    cursor = conn.cursor()\n",
    "    totalWeight=weight+fuel\n",
    "    startRecords = getFlightPointData(cursor,totalWeight,startTemp,startAlt)\n",
    "    endRecords= getFlightPointData(cursor,totalWeight,endTemp,endAlt)\n",
    "    cursor.close()\n",
    "    avgROC=(startRecords[0][3]+endRecords[0][3])/2\n",
    "    avgFC=(startRecords[0][4]+endRecords[0][4])/2\n",
    "    return [avgROC,avgFC]"
   ]
  },
  {
   "cell_type": "code",
   "execution_count": 55,
   "metadata": {},
   "outputs": [],
   "source": [
    "def getFlightLegData( aircraftType, flightPattern, weight, fuel, startTemp, endTemp,startAlt, endAlt):\n",
    "    for pattern in flightPattern:\n",
    "        avgROC, avgFC = getFlightData(aircraftType, pattern, weight, fuel, startTemp, endTemp,startAlt, endAlt)\n",
    "    return [avgROC,avgFC]\n"
   ]
  },
  {
   "cell_type": "code",
   "execution_count": 56,
   "metadata": {},
   "outputs": [
    {
     "name": "stdout",
     "output_type": "stream",
     "text": [
      "13.0\n",
      "1.0\n"
     ]
    }
   ],
   "source": [
    "avgRoc, avgFC = getFlightLegData(\"Airbus\",[\"Climb\"],14,14,40,40,13,13)\n",
    "print(avgRoc)\n",
    "print(avgFC)"
   ]
  }
 ],
 "metadata": {
  "kernelspec": {
   "display_name": "Python 3",
   "language": "python",
   "name": "python3"
  },
  "language_info": {
   "codemirror_mode": {
    "name": "ipython",
    "version": 3
   },
   "file_extension": ".py",
   "mimetype": "text/x-python",
   "name": "python",
   "nbconvert_exporter": "python",
   "pygments_lexer": "ipython3",
   "version": "3.8.3"
  }
 },
 "nbformat": 4,
 "nbformat_minor": 4
}
