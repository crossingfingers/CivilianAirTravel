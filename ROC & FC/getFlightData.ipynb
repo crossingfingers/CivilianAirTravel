{
 "cells": [
  {
   "cell_type": "code",
   "execution_count": 27,
   "metadata": {},
   "outputs": [],
   "source": [
    "import sqlite3 as sql\n",
    "import os"
   ]
  },
  {
   "cell_type": "code",
   "execution_count": 40,
   "metadata": {},
   "outputs": [],
   "source": [
    "##gets ROC & Average Fuel consumption, based on aircraft weight, outside air temp & altitude\n",
    "def getClimbingFlightPointData(cursor, weight, temp, altitude):\n",
    "    sqlite_select_query = \"\"\"SELECT * from data where weight=? AND temp=? AND altitude=?\"\"\"\n",
    "    cursor.execute(sqlite_select_query,(weight,temp,altitude))\n",
    "    return cursor.fetchall()"
   ]
  },
  {
   "cell_type": "code",
   "execution_count": 41,
   "metadata": {},
   "outputs": [],
   "source": [
    "##gets ROC & Average Fuel consumption, based on aircraft weight, outside air temp & altitude\n",
    "def getLeveledFlightPointData(cursor, weight, temp, altitude):\n",
    "    sqlite_select_query = \"\"\"SELECT * from data where weight=? AND temp=? AND altitude=?\"\"\"\n",
    "    cursor.execute(sqlite_select_query,(weight,temp,altitude))\n",
    "    return cursor.fetchall()"
   ]
  },
  {
   "cell_type": "code",
   "execution_count": 42,
   "metadata": {},
   "outputs": [],
   "source": [
    "##gets ROC & Average Fuel consumption, based on aircraft weight, outside air temp & altitude\n",
    "def getDescendingFlightPointData(cursor, weight, temp, altitude):\n",
    "    sqlite_select_query = \"\"\"SELECT * from data where weight=? AND temp=? AND altitude=?\"\"\"\n",
    "    cursor.execute(sqlite_select_query,(weight,temp,altitude))\n",
    "    return cursor.fetchall()"
   ]
  },
  {
   "cell_type": "code",
   "execution_count": 43,
   "metadata": {},
   "outputs": [],
   "source": [
    "##gets averaged data, during climb, weight, fuel, starting parameters\n",
    "def getClimbingFlightData( aircraftType, flightPattern, weight, fuel, startTemp, endTemp,startAlt, endAlt):\n",
    "    cwd = os.getcwd()\n",
    "    try:\n",
    "        conn=sql.connect(cwd+\"\\\\database\\\\\"+aircraftType+\".climbing.sqlite\")\n",
    "    except Error as e:\n",
    "        print(\"Could not connect to database...\")\n",
    "    \n",
    "    cursor = conn.cursor()\n",
    "    totalWeight=weight+fuel\n",
    "    startRecords = getClimbingFlightPointData(cursor,totalWeight,startTemp,startAlt)\n",
    "    endRecords= getClimbingFlightPointData(cursor,totalWeight,endTemp,endAlt)\n",
    "    cursor.close()\n",
    "    avgROC=(startRecords[0][3]+endRecords[0][3])/2\n",
    "    avgFC=(startRecords[0][4]+endRecords[0][4])/2\n",
    "    return [avgROC,avgFC]"
   ]
  },
  {
   "cell_type": "code",
   "execution_count": 44,
   "metadata": {},
   "outputs": [],
   "source": [
    "##gets averaged data, during leveled flight, weight, fuel, starting parameters\n",
    "def getLeveledFlightData( aircraftType, flightPattern, weight, fuel, startTemp, endTemp,startAlt, endAlt):\n",
    "    cwd = os.getcwd()\n",
    "    try:\n",
    "        conn=sql.connect(cwd+\"\\\\database\\\\\"+aircraftType+\".leveled.sqlite\")\n",
    "    except Error as e:\n",
    "        print(\"Could not connect to database...\")\n",
    "    \n",
    "    cursor = conn.cursor()\n",
    "    totalWeight=weight+fuel\n",
    "    startRecords = getLeveledFlightPointData(cursor,totalWeight,startTemp,startAlt)\n",
    "    endRecords= getLeveledFlightPointData(cursor,totalWeight,endTemp,endAlt)\n",
    "    cursor.close()\n",
    "    avgROC=(startRecords[0][3]+endRecords[0][3])/2\n",
    "    avgFC=(startRecords[0][4]+endRecords[0][4])/2\n",
    "    return [avgROC,avgFC]"
   ]
  },
  {
   "cell_type": "code",
   "execution_count": 48,
   "metadata": {},
   "outputs": [],
   "source": [
    "##gets averaged data, during descend, weight, fuel, starting parameters\n",
    "def getDescendingFlightData( aircraftType, flightPattern, weight, fuel, startTemp, endTemp,startAlt, endAlt):\n",
    "    cwd = os.getcwd()\n",
    "    try:\n",
    "        conn=sql.connect(cwd+\"\\\\database\\\\\"+aircraftType+\".descending.sqlite\")\n",
    "    except Error as e:\n",
    "        print(\"Could not connect to database...\")\n",
    "    \n",
    "    cursor = conn.cursor()\n",
    "    totalWeight=weight+fuel\n",
    "    startRecords = getDescendingFlightPointData(cursor,totalWeight,startTemp,startAlt)\n",
    "    endRecords= getDescendingFlightPointData(cursor,totalWeight,endTemp,endAlt)\n",
    "    cursor.close()\n",
    "    avgROC=(startRecords[0][3]+endRecords[0][3])/2\n",
    "    avgFC=(startRecords[0][4]+endRecords[0][4])/2\n",
    "    return [avgROC,avgFC]"
   ]
  },
  {
   "cell_type": "code",
   "execution_count": 49,
   "metadata": {},
   "outputs": [],
   "source": [
    "def getFlightLegData( aircraftType, flightPattern, weight, fuel, startTemp, endTemp,startAlt, endAlt):\n",
    "    avgROC=1\n",
    "    avgFC=0\n",
    "    for pattern in flightPattern:\n",
    "        if(pattern==1):\n",
    "            avgROC, avgFC = getClimbingFlightData(aircraftType, pattern, weight, fuel, startTemp, endTemp,startAlt, endAlt)\n",
    "        if(pattern==0):\n",
    "            avgROC, avgFC = getLeveledFlightData(aircraftType, pattern, weight, fuel, startTemp, endTemp,startAlt, endAlt)\n",
    "        if(pattern==-1):\n",
    "            avgROC, avgFC = getDescendingFlightData(aircraftType, pattern, weight, fuel, startTemp, endTemp,startAlt, endAlt)\n",
    "    return [avgROC,avgFC]\n"
   ]
  },
  {
   "cell_type": "code",
   "execution_count": 50,
   "metadata": {},
   "outputs": [
    {
     "name": "stdout",
     "output_type": "stream",
     "text": [
      "13.0\n",
      "1.0\n"
     ]
    }
   ],
   "source": [
    "avgRoc, avgFC = getFlightLegData(\"Airbus\",[0,1,-1],14,14,40,40,13,13)\n",
    "print(avgRoc)\n",
    "print(avgFC)"
   ]
  },
  {
   "cell_type": "code",
   "execution_count": null,
   "metadata": {},
   "outputs": [],
   "source": []
  }
 ],
 "metadata": {
  "kernelspec": {
   "display_name": "Python 3",
   "language": "python",
   "name": "python3"
  },
  "language_info": {
   "codemirror_mode": {
    "name": "ipython",
    "version": 3
   },
   "file_extension": ".py",
   "mimetype": "text/x-python",
   "name": "python",
   "nbconvert_exporter": "python",
   "pygments_lexer": "ipython3",
   "version": "3.8.3"
  }
 },
 "nbformat": 4,
 "nbformat_minor": 4
}
