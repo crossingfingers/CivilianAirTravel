{
 "cells": [
  {
   "cell_type": "code",
   "execution_count": 1,
   "metadata": {},
   "outputs": [],
   "source": [
    "import sqlite3 as sql\n",
    "import csv_to_sqlite\n"
   ]
  },
  {
   "cell_type": "code",
   "execution_count": 37,
   "metadata": {},
   "outputs": [
    {
     "name": "stdout",
     "output_type": "stream",
     "text": [
      "Written 5000 rows into 1 tables in 0.041 seconds\n"
     ]
    },
    {
     "data": {
      "text/plain": [
       "5000"
      ]
     },
     "execution_count": 37,
     "metadata": {},
     "output_type": "execute_result"
    }
   ],
   "source": [
    "##Script to convert CSV to SQL\n",
    "##options = csv_to_sqlite.CsvOptions(typing_style=\"full\", encoding=\"windows-1250\") \n",
    "##input_files = [\"C:\\\\Users\\divin\\\\Documents\\\\Self studies\\\\Pizzas\\\\data.csv\"] # pass in a list of CSV files\n",
    "##csv_to_sqlite.write_csv(input_files, \"C:\\\\Users\\divin\\\\Documents\\\\Self studies\\\\Pizzas\\\\data.sqlite\", options)"
   ]
  },
  {
   "cell_type": "code",
   "execution_count": 27,
   "metadata": {},
   "outputs": [],
   "source": [
    "##gets ROC & Average Fuel consumption, based on aircraft weight, outside air temp & altitude\n",
    "def getFlightData(cursor, weight, temp, altitude):\n",
    "    sqlite_select_query = \"\"\"SELECT * from data where weight=? AND temp=? AND altitude=?\"\"\"\n",
    "    cursor.execute(sqlite_select_query,(weight,temp,altitude))\n",
    "    return cursor.fetchall()"
   ]
  },
  {
   "cell_type": "code",
   "execution_count": 43,
   "metadata": {},
   "outputs": [],
   "source": [
    "##gets averaged data, based on flight pattern, weight, fuel, starting parameters\n",
    "def getData( aircraftType, flightPattern, weight, fuel, startTemp, endTemp,startAlt, endAlt):\n",
    "    try:\n",
    "        conn=sql.connect(\"C:\\\\Users\\divin\\\\Documents\\\\Self studies\\\\Pizzas\\\\\"+aircraftType+\".\"+flightPattern+\".sqlite\")\n",
    "    except Error as e:\n",
    "        print(\"Could not connect to database...\")\n",
    "    \n",
    "    cursor = conn.cursor()\n",
    "    totalWeight=weight+fuel\n",
    "    startRecords = getFlightData(cursor,totalWeight,startTemp,startAlt)\n",
    "    endRecords= getFlightData(cursor,totalWeight,endTemp,endAlt)\n",
    "    cursor.close()\n",
    "    avgROC=(startRecords[0][3]+endRecords[0][3])/2\n",
    "    avgFC=(startRecords[0][4]+endRecords[0][4])/2\n",
    "    return [avgROC,avgFC]"
   ]
  },
  {
   "cell_type": "code",
   "execution_count": 44,
   "metadata": {},
   "outputs": [
    {
     "name": "stdout",
     "output_type": "stream",
     "text": [
      "13.0\n",
      "1.0\n"
     ]
    }
   ],
   "source": [
    "avgRoc, avgFC = getData(\"Airbus\",\"Climb\",14,14,40,40,13,13)\n",
    "print(avgRoc)\n",
    "print(avgFC)"
   ]
  }
 ],
 "metadata": {
  "kernelspec": {
   "display_name": "Python 3",
   "language": "python",
   "name": "python3"
  },
  "language_info": {
   "codemirror_mode": {
    "name": "ipython",
    "version": 3
   },
   "file_extension": ".py",
   "mimetype": "text/x-python",
   "name": "python",
   "nbconvert_exporter": "python",
   "pygments_lexer": "ipython3",
   "version": "3.8.3"
  }
 },
 "nbformat": 4,
 "nbformat_minor": 4
}
