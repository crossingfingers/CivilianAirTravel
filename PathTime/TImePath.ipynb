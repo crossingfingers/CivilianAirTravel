{
 "cells": [
  {
   "cell_type": "code",
   "execution_count": 202,
   "metadata": {},
   "outputs": [],
   "source": [
    "import pandas as pd\n",
    "import numpy as np\n",
    "import math\n",
    "import haversine as hs\n",
    "import requests\n",
    "import json\n",
    "import csv\n",
    "\n",
    "#import tracks from csv\n",
    "try:\n",
    "    df_path = pd.read_csv('path.csv')\n",
    "    df_airSpeed= pd.read_csv('air_speed.csv')\n",
    "except OSError:\n",
    "    print(\"Could not connect to database...\")"
   ]
  },
  {
   "cell_type": "markdown",
   "metadata": {},
   "source": [
    "calculations and get functions:"
   ]
  },
  {
   "cell_type": "code",
   "execution_count": 203,
   "metadata": {},
   "outputs": [],
   "source": [
    "def clc_dist_between_2points (lat1, lon1, lat2, lon2):\n",
    "    coordinate1=(lat1, lon1)\n",
    "    coordinate2=(lat2, lon2)\n",
    "    #dist_mil= hs.haversine(coordinate1,coordinate2,unit=Unit.MILES)\n",
    "    dist_metre= hs.haversine(coordinate1,coordinate2,unit=Unit.METERS)\n",
    "    return dist_metre"
   ]
  },
  {
   "cell_type": "code",
   "execution_count": 204,
   "metadata": {},
   "outputs": [],
   "source": [
    "def clc_azimuth(lat1, lon1, lat2, lon2):\n",
    "    dL = lon2-lon1\n",
    "    X = math.cos(lat2)* math.sin(dL)\n",
    "    Y = math.cos(lat1)*math.sin(lat2) - math.sin(lat1)*math.cos(lat2)* math.cos(dL)\n",
    "    bearing_rad = np.arctan2(X,Y) # radian\n",
    "    bearing_deg=((np.degrees(bearing_rad)+360) % 360) # degrees\n",
    "    return bearing_deg"
   ]
  },
  {
   "cell_type": "code",
   "execution_count": 205,
   "metadata": {},
   "outputs": [],
   "source": [
    "def get_Aspeed(weight): \n",
    "    weight_modol = weight - (weight % 50) # rounding down    \n",
    "    return int(df_airSpeed['air speed'][df_airSpeed[df_airSpeed['weight']==weight_modol].index]) # air speed from csv"
   ]
  },
  {
   "cell_type": "code",
   "execution_count": 206,
   "metadata": {},
   "outputs": [],
   "source": [
    "def get_weather(lat, lon, request):\n",
    "    api_key = \"c80b790a2fd8650bc690c41a4c001f0a\"\n",
    "    url = \"https://api.openweathermap.org/data/2.5/onecall?lat=%s&lon=%s&appid=%s&units=metric\" % (lat, lon, api_key)\n",
    "    response = requests.get(url)\n",
    "    data = json.loads(response.text)\n",
    "    weather_request = data[\"current\"][request]\n",
    "    return weather_request"
   ]
  },
  {
   "cell_type": "code",
   "execution_count": 207,
   "metadata": {},
   "outputs": [],
   "source": [
    "# from israely site- not working \n",
    "url = \"https://api.ims.gov.il/v1/Envista/stations\"\n",
    "headers = {'Authorization': 'ApiToken f058958a-d8bd-47cc-95d7-7ecf98610e47'}\n",
    "response = requests.request(\"GET\", url, headers=headers)\n",
    "data= json.loads(response.text.encode('utf8'))"
   ]
  },
  {
   "cell_type": "code",
   "execution_count": 208,
   "metadata": {},
   "outputs": [],
   "source": [
    "def clc_Gspeed(az, wind_speed, wind_deg, Aspeed): \n",
    "    Gspeed= Aspeed+wind_speed*math.cos((wind_deg+180)-az) # ?need to confirm?\n",
    "    return Gspeed\n",
    "#add yaw"
   ]
  },
  {
   "cell_type": "markdown",
   "metadata": {},
   "source": [
    "main function:\n",
    "- calculate time of flight in each leg- \n",
    "    get the coordinates from DataFrame for a specific leg (leg_number). using our function we clc the distance, az, and high difference. using the get_weather function for wind information we clc the true speed of the aircraft (ground speed).\n",
    "    we have 2 options- climbing takes more time then flying between the two points. in this case we will climb in place when getting to point b, and the time of flight in this leg will be the time of climbing. otherwise, the time will be determine by the time of flight between two coordinates.\n",
    "- add all our calculations to path.csv"
   ]
  },
  {
   "cell_type": "code",
   "execution_count": 209,
   "metadata": {},
   "outputs": [],
   "source": [
    "def clc_leg_FlightTime_FuelWeist(leg_number, wind_ref_point, aircraftType, current_fuel): #aircraftType=weight\n",
    "    distance= clc_dist_between_2points(df_path['lat_a'][leg_number], df_path['lon_a'][leg_number], df_path['lat_b'][leg_number], df_path['lon_b'][leg_number])  \n",
    "    high_diff= df_path['hight_b(m)'][leg_number]-df_path['hight_a(m)'][leg_number]\n",
    "    az= clc_azimuth(df_path['lat_a'][leg_number], df_path['lon_a'][leg_number], df_path['lat_b'][leg_number], df_path['lon_b'][leg_number])\n",
    "    startTemp, endTemp= get_weather(df_path['lat_a'][leg_number], df_path['lon_a'][leg_number], \"temp\"), get_weather(df_path['lat_b'][leg_number], df_path['lon_b'][leg_number], \"temp\")\n",
    "\n",
    "    if high_diff<0\n",
    "       flightPattern= \"decsend\"\n",
    "    if high_diff>0\n",
    "       flightPattern=\"climb\"\n",
    "    #weight_tot ???\n",
    "    avgROC, avgFC= getFlightLegData(aircraftType, flightPattern, weight_tot, current_fuel, startTemp, endTemp,df_path['high_a(m)'][leg_number],df_path['high_b(m)'][leg_number])\n",
    "    avgROC_lev, avgFC_lev= getFlightLegData(aircraftType, [\"leveled flight\"], weight_tot, current_fuel, startTemp, endTemp,df_path['high_a(m)'][leg_number],df_path['high_b(m)'][leg_number])\n",
    "\n",
    "    if(wind_ref_point=='start'): #option for later\n",
    "        wind_speed= get_weather(df_path['lat_a'][leg_number], df_path['lon_a'][leg_number], \"wind_speed\")\n",
    "        wind_deg = get_weather(df_path['lat_a'][leg_number], df_path['lon_a'][leg_number], \"wind_deg\")\n",
    "    else:\n",
    "        wind_speed= get_weather(df_path['lat_b'][leg_number], df_path['lon_b'][leg_number], \"wind_speed\")\n",
    "        wind_deg = get_weather(df_path['lat_b'][leg_number], df_path['lon_b'][leg_number], \"wind_deg\")    \n",
    "    Aspeed= get_Aspeed(aircraft_weight+start_fuel)\n",
    "    Gspeed= clc_Gspeed(az, wind_speed, wind_deg, Aspeed) \n",
    "    \n",
    "    #calculate flight time from a to b\n",
    "    time_dist= (distance/Gspeed)*100/6 #6min/100 -- time of flight from point a to b\n",
    "    time_alt= high_diff/avgROC #min -- time to climb or decsend from point 1 to point b\n",
    "    time_of_leg= max(time_dist, time_alt) \n",
    "    \n",
    "    #Fuel consumption from a to b            \n",
    "    if time_of_leg==time_alt:\n",
    "        fuel_decrease= avgFC*time_of_leg\n",
    "    elif time_of_leg==time_dist:\n",
    "        fuel_decrease= avgFC*time_alt \n",
    "        fuel_decrease+= avgFC_lev*(time_dist- time_alt) \n",
    "    current_fuel= start_fuel- fuel_decrease \n",
    "    #add data to csv\n",
    "    df = pd.read_csv(\"path.csv\")\n",
    "    df[leg_number, \"dist\"] = distance\n",
    "    df[leg_number, \"high_diff\"] = high_diff\n",
    "    df[leg_number, \"az\"] = az\n",
    "    df[leg_number, \"Gspeed\"] = Gspeed\n",
    "    df[leg_number, \"time_dist\"]= time_dist\n",
    "    df[leg_number, \"time_climb\"] = time_climb\n",
    "    df[leg_number, \"time_of_leg\"] = time_of_leg\n",
    "    df[leg_number, \"current_fuel\"] = current_fuel\n",
    "    df.to_csv(\"path.csv\", index=False)    \n",
    "    \n",
    "    return time_of_leg, current_fuel\n",
    "\n",
    "#float('{:.6f}'.format(df_path['lat_a'][0]))\n"
   ]
  },
  {
   "cell_type": "code",
   "execution_count": 1,
   "metadata": {
    "scrolled": false
   },
   "outputs": [],
   "source": [
    "\n",
    "def clc_path_FlightTime_FuelWeist(start_fuel, aircraftType):\n",
    "    num_legs= int(len(df_path['lat_a'])) \n",
    "    wind_ref_point= 'start' ####\n",
    "    start_fuel= 500 #?start fuel?\n",
    "    current_fuel=start_fuel\n",
    "    aircraftType=\"Airbus\" #### \n",
    "    total=0\n",
    "\n",
    "    for i in range(num_legs):\n",
    "        time_of_leg, current_fuel= clc_leg_FlightTime_FuelWeist(i, wind_ref_point, aircraftType, current_fuel) \n",
    "        total+=time_of_leg\n",
    "    \n",
    "    #add total time to csv at the last row of time_of_leg\n",
    "    df = pd.read_csv(\"path.csv\")\n",
    "    df[num_legs+1, \"time_of_leg\"] = total\n",
    "    df.to_csv(\"path.csv\", index=False)  \n",
    "    \n",
    "    return total, (start_fuel-current_fuel)\n",
    "\n",
    "#---------------------------\n",
    "\n",
    "#yaw (wind)\n",
    "#start fuel, aircraftType,aircraft_weight - add a csv file\n",
    "#verify units between all codes\n"
   ]
  },
  {
   "cell_type": "code",
   "execution_count": null,
   "metadata": {},
   "outputs": [],
   "source": []
  }
 ],
 "metadata": {
  "kernelspec": {
   "display_name": "Python 3",
   "language": "python",
   "name": "python3"
  },
  "language_info": {
   "codemirror_mode": {
    "name": "ipython",
    "version": 3
   },
   "file_extension": ".py",
   "mimetype": "text/x-python",
   "name": "python",
   "nbconvert_exporter": "python",
   "pygments_lexer": "ipython3",
   "version": "3.8.5"
  }
 },
 "nbformat": 4,
 "nbformat_minor": 4
}
