{
 "cells": [
  {
   "cell_type": "code",
   "execution_count": 202,
   "metadata": {},
   "outputs": [],
   "source": [
    "import pandas as pd\n",
    "import numpy as np\n",
    "import math\n",
    "import haversine as hs\n",
    "import requests\n",
    "import json\n",
    "import csv\n",
    "\n",
    "#import tracks from csv\n",
    "try:\n",
    "    df_path = pd.read_csv('path.csv')\n",
    "    df_airSpeed= pd.read_csv('air_speed.csv')\n",
    "except OSError:\n",
    "    print(\"Could not connect to database...\")"
   ]
  },
  {
   "cell_type": "markdown",
   "metadata": {},
   "source": [
    "calculations and get functions:"
   ]
  },
  {
   "cell_type": "code",
   "execution_count": 203,
   "metadata": {},
   "outputs": [],
   "source": [
    "def clc_dist_between_2points (lat1, lon1, lat2, lon2):\n",
    "    coordinate1=(lat1, lon1)\n",
    "    coordinate2=(lat2, lon2)\n",
    "    #dist_mil= hs.haversine(coordinate1,coordinate2,unit=Unit.MILES)\n",
    "    dist_metre= hs.haversine(coordinate1,coordinate2,unit=Unit.METERS)\n",
    "    return dist_metre"
   ]
  },
  {
   "cell_type": "code",
   "execution_count": 204,
   "metadata": {},
   "outputs": [],
   "source": [
    "def clc_azimuth(lat1, lon1, lat2, lon2):\n",
    "    dL = lon2-lon1\n",
    "    X = math.cos(lat2)* math.sin(dL)\n",
    "    Y = math.cos(lat1)*math.sin(lat2) - math.sin(lat1)*math.cos(lat2)* math.cos(dL)\n",
    "    bearing_rad = np.arctan2(X,Y) # radian\n",
    "    bearing_deg=((np.degrees(bearing_rad)+360) % 360) # degrees\n",
    "    return bearing_deg"
   ]
  },
  {
   "cell_type": "code",
   "execution_count": 205,
   "metadata": {},
   "outputs": [],
   "source": [
    "def get_Aspeed(weight): \n",
    "    weight_modol = weight - (weight % 50) # rounding down    \n",
    "    return int(df_airSpeed['air speed'][df_airSpeed[df_airSpeed['weight']==weight_modol].index]) # air speed from csv"
   ]
  },
  {
   "cell_type": "code",
   "execution_count": 206,
   "metadata": {},
   "outputs": [],
   "source": [
    "def get_weather(lat, lon, request):\n",
    "    api_key = \"c80b790a2fd8650bc690c41a4c001f0a\"\n",
    "    url = \"https://api.openweathermap.org/data/2.5/onecall?lat=%s&lon=%s&appid=%s&units=metric\" % (lat, lon, api_key)\n",
    "    response = requests.get(url)\n",
    "    data = json.loads(response.text)\n",
    "    weather_request = data[\"current\"][request]\n",
    "    return weather_request"
   ]
  },
  {
   "cell_type": "code",
   "execution_count": 207,
   "metadata": {},
   "outputs": [],
   "source": [
    "# from israely site- not working \n",
    "url = \"https://api.ims.gov.il/v1/Envista/stations\"\n",
    "headers = {'Authorization': 'ApiToken f058958a-d8bd-47cc-95d7-7ecf98610e47'}\n",
    "response = requests.request(\"GET\", url, headers=headers)\n",
    "data= json.loads(response.text.encode('utf8'))"
   ]
  },
  {
   "cell_type": "code",
   "execution_count": 208,
   "metadata": {},
   "outputs": [],
   "source": [
    "def clc_Gspeed(az, wind_speed, wind_deg, Aspeed): \n",
    "    Gspeed= Aspeed+wind_speed*math.cos((wind_deg+180)-az) # ?need to confirm?\n",
    "    return Gspeed\n",
    "#add yaw"
   ]
  },
  {
   "cell_type": "markdown",
   "metadata": {},
   "source": [
    "main function:\n",
    "- calculate time of flight in each leg- \n",
    "    get the coordinates from DataFrame for a specific leg (leg_number). using our function we clc the distance, az, and high difference. using the get_weather function for wind information we clc the true speed of the aircraft (ground speed).\n",
    "    we have 2 options- climbing takes more time then flying between the two points. in this case we will climb in place when getting to point b, and the time of flight in this leg will be the time of climbing. otherwise, the time will be determine by the time of flight between two coordinates.\n",
    "- add all our calculations to path.csv"
   ]
  },
  {
   "cell_type": "code",
   "execution_count": 209,
   "metadata": {},
   "outputs": [],
   "source": [
    "def clc_leg_FlightTime_FuelWeist(leg_number, wind_ref_point, avgROC, av_feul_climb, av_feul_str, start_fuel):\n",
    "    distance= clc_dist_between_2points(df_path['lat_a'][leg_number], df_path['lon_a'][leg_number], df_path['lat_b'][leg_number], df_path['lon_b'][leg_number])  \n",
    "    high_diff= df_path['hight_b(m)'][leg_number]-df_path['hight_a(m)'][leg_number]\n",
    "    az= clc_azimuth(df_path['lat_a'][leg_number], df_path['lon_a'][leg_number], df_path['lat_b'][leg_number], df_path['lon_b'][leg_number])\n",
    "    \n",
    "    if(wind_ref_point=='start'): #option for later\n",
    "        wind_speed= get_weather(df_path['lat_a'][leg_number], df_path['lon_a'][leg_number], \"wind_speed\")\n",
    "        wind_deg = get_weather(df_path['lat_a'][leg_number], df_path['lon_a'][leg_number], \"wind_deg\")\n",
    "    else:\n",
    "        wind_speed= get_weather(df_path['lat_b'][leg_number], df_path['lon_b'][leg_number], \"wind_speed\")\n",
    "        wind_deg = get_weather(df_path['lat_b'][leg_number], df_path['lon_b'][leg_number], \"wind_deg\")    \n",
    "    Aspeed= get_Aspeed(aircraft_weight+start_fuel)\n",
    "    Gspeed= clc_Gspeed(az, wind_speed, wind_deg, Aspeed) \n",
    "    #calculate flight time from a to b\n",
    "    time_dist= (distance/Gspeed)*100/6 #6min/100 -- time of flight from point a to b\n",
    "    time_climb= high_diff/avgROC #min -- time to climb from point 1 to point b\n",
    "    time_of_leg= max(time_dist, time_climb) \n",
    "    #Fuel consumption from a to b\n",
    "    if time_of_leg==time_climb:\n",
    "        fuel_decrease= av_feul_climb*time_of_leg\n",
    "    elif time_of_leg==time_dist:\n",
    "        fuel_decrease= av_feul_climb*time_climb \n",
    "        fuel_decrease+= av_feul_str*(time_dist- time_climb) \n",
    "    current_fuel= start_fuel- fuel_decrease \n",
    "    #add data to csv\n",
    "    df = pd.read_csv(\"path.csv\")\n",
    "    df[leg_number, \"dist\"] = distance\n",
    "    df[leg_number, \"high_diff\"] = high_diff\n",
    "    df[leg_number, \"az\"] = az\n",
    "    df[leg_number, \"Gspeed\"] = Gspeed\n",
    "    df[leg_number, \"time_dist\"]= time_dist\n",
    "    df[leg_number, \"time_climb\"] = time_climb\n",
    "    df[leg_number, \"time_of_leg\"] = time_of_leg\n",
    "    df[leg_number, \"current_fuel\"] = current_fuel\n",
    "    df.to_csv(\"path.csv\", index=False)    \n",
    "    \n",
    "    return time_of_leg, current_fuel\n",
    "\n",
    "#float('{:.6f}'.format(df_path['lat_a'][0]))\n"
   ]
  },
  {
   "cell_type": "code",
   "execution_count": 210,
   "metadata": {
    "scrolled": false
   },
   "outputs": [
    {
     "ename": "NameError",
     "evalue": "name 'getFlightLegData' is not defined",
     "output_type": "error",
     "traceback": [
      "\u001b[1;31m---------------------------------------------------------------------------\u001b[0m",
      "\u001b[1;31mNameError\u001b[0m                                 Traceback (most recent call last)",
      "\u001b[1;32m<ipython-input-210-863b89c6540b>\u001b[0m in \u001b[0;36m<module>\u001b[1;34m\u001b[0m\n\u001b[0;32m     12\u001b[0m     \u001b[0mstartTemp\u001b[0m\u001b[1;33m,\u001b[0m \u001b[0mendTemp\u001b[0m\u001b[1;33m=\u001b[0m \u001b[0mget_weather\u001b[0m\u001b[1;33m(\u001b[0m\u001b[0mdf_path\u001b[0m\u001b[1;33m[\u001b[0m\u001b[1;34m'lat_a'\u001b[0m\u001b[1;33m]\u001b[0m\u001b[1;33m[\u001b[0m\u001b[0mi\u001b[0m\u001b[1;33m]\u001b[0m\u001b[1;33m,\u001b[0m \u001b[0mdf_path\u001b[0m\u001b[1;33m[\u001b[0m\u001b[1;34m'lon_a'\u001b[0m\u001b[1;33m]\u001b[0m\u001b[1;33m[\u001b[0m\u001b[0mi\u001b[0m\u001b[1;33m]\u001b[0m\u001b[1;33m,\u001b[0m \u001b[1;34m\"temp\"\u001b[0m\u001b[1;33m)\u001b[0m\u001b[1;33m,\u001b[0m \u001b[0mget_weather\u001b[0m\u001b[1;33m(\u001b[0m\u001b[0mdf_path\u001b[0m\u001b[1;33m[\u001b[0m\u001b[1;34m'lat_b'\u001b[0m\u001b[1;33m]\u001b[0m\u001b[1;33m[\u001b[0m\u001b[0mi\u001b[0m\u001b[1;33m]\u001b[0m\u001b[1;33m,\u001b[0m \u001b[0mdf_path\u001b[0m\u001b[1;33m[\u001b[0m\u001b[1;34m'lon_b'\u001b[0m\u001b[1;33m]\u001b[0m\u001b[1;33m[\u001b[0m\u001b[0mi\u001b[0m\u001b[1;33m]\u001b[0m\u001b[1;33m,\u001b[0m \u001b[1;34m\"temp\"\u001b[0m\u001b[1;33m)\u001b[0m\u001b[1;33m\u001b[0m\u001b[1;33m\u001b[0m\u001b[0m\n\u001b[0;32m     13\u001b[0m     \u001b[1;31m#func in-- getFlightData.ipynb\u001b[0m\u001b[1;33m\u001b[0m\u001b[1;33m\u001b[0m\u001b[1;33m\u001b[0m\u001b[0m\n\u001b[1;32m---> 14\u001b[1;33m     \u001b[0mavgROC\u001b[0m\u001b[1;33m,\u001b[0m \u001b[0mavgFC\u001b[0m\u001b[1;33m=\u001b[0m \u001b[0mgetFlightLegData\u001b[0m\u001b[1;33m(\u001b[0m\u001b[0maircraftType\u001b[0m\u001b[1;33m,\u001b[0m \u001b[0mflightPattern\u001b[0m\u001b[1;33m,\u001b[0m \u001b[0mweight_tot\u001b[0m\u001b[1;33m,\u001b[0m \u001b[0mleg_fuel_list\u001b[0m\u001b[1;33m[\u001b[0m\u001b[0mi\u001b[0m\u001b[1;33m]\u001b[0m\u001b[1;33m,\u001b[0m \u001b[0mstartTemp\u001b[0m\u001b[1;33m,\u001b[0m \u001b[0mendTemp\u001b[0m\u001b[1;33m,\u001b[0m\u001b[0mdf_path\u001b[0m\u001b[1;33m[\u001b[0m\u001b[1;34m'high_a(m)'\u001b[0m\u001b[1;33m]\u001b[0m\u001b[1;33m[\u001b[0m\u001b[0mi\u001b[0m\u001b[1;33m]\u001b[0m\u001b[1;33m,\u001b[0m\u001b[0mdf_path\u001b[0m\u001b[1;33m[\u001b[0m\u001b[1;34m'high_b(m)'\u001b[0m\u001b[1;33m]\u001b[0m\u001b[1;33m[\u001b[0m\u001b[0mi\u001b[0m\u001b[1;33m]\u001b[0m\u001b[1;33m)\u001b[0m\u001b[1;33m\u001b[0m\u001b[1;33m\u001b[0m\u001b[0m\n\u001b[0m\u001b[0;32m     15\u001b[0m     \u001b[0mleg_time\u001b[0m\u001b[1;33m,\u001b[0m \u001b[0mfuel_time\u001b[0m\u001b[1;33m=\u001b[0m \u001b[0mclc_leg_FlightTime_FuelWeist\u001b[0m\u001b[1;33m(\u001b[0m\u001b[0mi\u001b[0m\u001b[1;33m,\u001b[0m \u001b[0mwind_ref_point\u001b[0m\u001b[1;33m,\u001b[0m \u001b[0mavgROC\u001b[0m\u001b[1;33m,\u001b[0m \u001b[0mavgFC\u001b[0m \u001b[1;33m,\u001b[0m \u001b[0mav_feul_str\u001b[0m\u001b[1;33m,\u001b[0m \u001b[0mleg_fuel_list\u001b[0m\u001b[1;33m[\u001b[0m\u001b[0mi\u001b[0m\u001b[1;33m]\u001b[0m\u001b[1;33m)\u001b[0m\u001b[1;33m\u001b[0m\u001b[1;33m\u001b[0m\u001b[0m\n\u001b[0;32m     16\u001b[0m     \u001b[0mleg_time_list\u001b[0m\u001b[1;33m.\u001b[0m\u001b[0mappend\u001b[0m\u001b[1;33m(\u001b[0m\u001b[0mleg_time\u001b[0m\u001b[1;33m)\u001b[0m\u001b[1;33m\u001b[0m\u001b[1;33m\u001b[0m\u001b[0m\n",
      "\u001b[1;31mNameError\u001b[0m: name 'getFlightLegData' is not defined"
     ]
    }
   ],
   "source": [
    "leg_time_list=[]\n",
    "leg_fuel_list=[]\n",
    "num_legs= int(len(df_path['lat_a'])) \n",
    "wind_ref_point= 'start'\n",
    "leg_fuel_list += [500] #?start fuel?\n",
    "aircraftType=\"Airbus\" # ?temporary? \n",
    "aircraft_weight= 100 # ?temporary?\n",
    "\n",
    "#------- path 1 -------\n",
    "for i in range(num_legs):\n",
    "    weight_tot= leg_fuel_list[i]+aircraft_weight\n",
    "    startTemp, endTemp= get_weather(df_path['lat_a'][i], df_path['lon_a'][i], \"temp\"), get_weather(df_path['lat_b'][i], df_path['lon_b'][i], \"temp\")\n",
    "    #func in-- getFlightData.ipynb\n",
    "    avgROC, avgFC= getFlightLegData(aircraftType, flightPattern, weight_tot, leg_fuel_list[i], startTemp, endTemp,df_path['high_a(m)'][i],df_path['high_b(m)'][i])\n",
    "    leg_time, fuel_time= clc_leg_FlightTime_FuelWeist(i, wind_ref_point, avgROC, avgFC , av_feul_str, leg_fuel_list[i]) \n",
    "    leg_time_list.append(leg_time)\n",
    "    leg_fuel_list.append(fuel_time)\n",
    "    \n",
    "total_time = sum(leg_time_list) \n",
    "total_fuel_weist=leg_fuel_list[0]- leg_fuel_list[num_legs-1] \n",
    "#---------------------------\n",
    "\n",
    "#yaw (wind)\n",
    "#av_feul_str missing func\n",
    "#start fuel, aircraftType,aircraft_weight - add a csv file\n",
    "#average feul weist while waiting missing func\n",
    "#verify units between all codes\n"
   ]
  },
  {
   "cell_type": "code",
   "execution_count": null,
   "metadata": {},
   "outputs": [],
   "source": []
  }
 ],
 "metadata": {
  "kernelspec": {
   "display_name": "Python 3",
   "language": "python",
   "name": "python3"
  },
  "language_info": {
   "codemirror_mode": {
    "name": "ipython",
    "version": 3
   },
   "file_extension": ".py",
   "mimetype": "text/x-python",
   "name": "python",
   "nbconvert_exporter": "python",
   "pygments_lexer": "ipython3",
   "version": "3.8.3"
  }
 },
 "nbformat": 4,
 "nbformat_minor": 4
}
