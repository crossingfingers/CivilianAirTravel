{
 "cells": [
  {
   "cell_type": "code",
   "execution_count": 1,
   "metadata": {},
   "outputs": [
    {
     "ename": "ModuleNotFoundError",
     "evalue": "No module named 'haversine'",
     "output_type": "error",
     "traceback": [
      "\u001b[1;31m---------------------------------------------------------------------------\u001b[0m",
      "\u001b[1;31mModuleNotFoundError\u001b[0m                       Traceback (most recent call last)",
      "\u001b[1;32m<ipython-input-1-4e669d9fa0d2>\u001b[0m in \u001b[0;36m<module>\u001b[1;34m\u001b[0m\n\u001b[0;32m      2\u001b[0m \u001b[1;32mimport\u001b[0m \u001b[0mnumpy\u001b[0m \u001b[1;32mas\u001b[0m \u001b[0mnp\u001b[0m\u001b[1;33m\u001b[0m\u001b[1;33m\u001b[0m\u001b[0m\n\u001b[0;32m      3\u001b[0m \u001b[1;32mimport\u001b[0m \u001b[0mmath\u001b[0m\u001b[1;33m\u001b[0m\u001b[1;33m\u001b[0m\u001b[0m\n\u001b[1;32m----> 4\u001b[1;33m \u001b[1;32mimport\u001b[0m \u001b[0mhaversine\u001b[0m \u001b[1;32mas\u001b[0m \u001b[0mhs\u001b[0m\u001b[1;33m\u001b[0m\u001b[1;33m\u001b[0m\u001b[0m\n\u001b[0m\u001b[0;32m      5\u001b[0m \u001b[1;32mimport\u001b[0m \u001b[0mrequests\u001b[0m\u001b[1;33m\u001b[0m\u001b[1;33m\u001b[0m\u001b[0m\n\u001b[0;32m      6\u001b[0m \u001b[1;32mimport\u001b[0m \u001b[0mjson\u001b[0m\u001b[1;33m\u001b[0m\u001b[1;33m\u001b[0m\u001b[0m\n",
      "\u001b[1;31mModuleNotFoundError\u001b[0m: No module named 'haversine'"
     ]
    }
   ],
   "source": [
    "import pandas as pd\n",
    "import numpy as np\n",
    "import math\n",
    "import haversine as hs\n",
    "import requests\n",
    "import json\n",
    "from haversine import Unit\n",
    "import getFlightData"
   ]
  },
  {
   "cell_type": "code",
   "execution_count": 2,
   "metadata": {},
   "outputs": [],
   "source": [
    "try:  # import tracks from csv\n",
    "    df_path = pd.read_csv('path.csv')\n",
    "    df_airSpeed = pd.read_csv('air_speed.csv')\n",
    "except OSError:\n",
    "    print(\"Could not connect to database...\")"
   ]
  },
  {
   "cell_type": "raw",
   "metadata": {},
   "source": [
    "# calculations and get functions:"
   ]
  },
  {
   "cell_type": "code",
   "execution_count": 3,
   "metadata": {},
   "outputs": [],
   "source": [
    "def clc_dist_between_2points(lat1, lon1, lat2, lon2):\n",
    "    coordinate1 = (lat1, lon1)\n",
    "    coordinate2 = (lat2, lon2)\n",
    "    dist_metre = hs.haversine(coordinate1, coordinate2, unit=Unit.METERS)\n",
    "    return dist_metre"
   ]
  },
  {
   "cell_type": "code",
   "execution_count": 4,
   "metadata": {},
   "outputs": [],
   "source": [
    "def clc_azimuth(lat1, lon1, lat2, lon2):\n",
    "    dL = lon2 - lon1\n",
    "    X = math.cos(lat2) * math.sin(dL)\n",
    "    Y = math.cos(lat1) * math.sin(lat2) - math.sin(lat1) * math.cos(lat2) * math.cos(dL)\n",
    "    bearing_rad = np.arctan2(X, Y)  # radian\n",
    "    bearing_deg = ((np.degrees(bearing_rad) + 360) % 360)  # degrees\n",
    "    return bearing_deg"
   ]
  },
  {
   "cell_type": "code",
   "execution_count": 5,
   "metadata": {},
   "outputs": [],
   "source": [
    "def get_Aspeed(weight):\n",
    "    weight_modol = weight - (weight % 50)  # rounding down\n",
    "    try:\n",
    "        Aspeed = int(df_airSpeed['air speed'][df_airSpeed[df_airSpeed['weight'] == weight_modol].index])  # air speed in csv\n",
    "    except:\n",
    "        print(\"fuel is to low- good luck coming back\")\n",
    "        Aspeed = 0\n",
    "    return Aspeed"
   ]
  },
  {
   "cell_type": "code",
   "execution_count": 6,
   "metadata": {},
   "outputs": [],
   "source": [
    "def get_weather(lat, lon, request):\n",
    "    api_key = \"c80b790a2fd8650bc690c41a4c001f0a\"\n",
    "    url = \"https://api.openweathermap.org/data/2.5/onecall?lat=%s&lon=%s&appid=%s&units=metric\" % (lat, lon, api_key)\n",
    "    response = requests.get(url)\n",
    "    data = json.loads(response.text)\n",
    "    weather_request = data[\"current\"][request]\n",
    "    return weather_request"
   ]
  },
  {
   "cell_type": "code",
   "execution_count": 7,
   "metadata": {},
   "outputs": [],
   "source": [
    "def clc_Gspeed(az, wind_speed, wind_deg, Aspeed):\n",
    "    Gspeed = Aspeed + wind_speed * math.cos((wind_deg + 180) - az)  #pleas confirm me\n",
    "    return Gspeed\n",
    "# add yaw"
   ]
  },
  {
   "cell_type": "raw",
   "metadata": {},
   "source": [
    "'main function:\n",
    "- calculate time of flight in each leg- \n",
    "    get the coordinates from DataFrame for a specific leg (leg_number). using our function we clc the distance, az, and high \n",
    "    difference. using the get_weather function for wind information we clc the true speed of the aircraft (ground speed).\n",
    "    we have 2 options- climbing takes more time then flying between the two points. in this case we will climb in place when \n",
    "    getting to point b, and the time of flight in this leg will be the time of climbing. otherwise, the time will be determine \n",
    "    by the time of flight between two coordinates.\n",
    "- add all our calculations to path.csv'"
   ]
  },
  {
   "cell_type": "code",
   "execution_count": 8,
   "metadata": {},
   "outputs": [],
   "source": [
    "def clc_leg_FlightTime_FuelWeist(leg_number, wind_ref_point, aircraftType, current_fuel):\n",
    "    aircraft_weight = 10  # (need to add aircraft weight by aircraft type)\n",
    "    weight_tot = current_fuel + aircraft_weight  # (need to add aircraft weight by aircraft type)\n",
    "\n",
    "    distance = clc_dist_between_2points(df_path['lat_a'][leg_number], df_path['lon_a'][leg_number], df_path['lat_b'][leg_number], df_path['lon_b'][leg_number])\n",
    "    high_diff = df_path['high_b(m)'][leg_number] - df_path['high_a(m)'][leg_number]\n",
    "    az = clc_azimuth(df_path['lat_a'][leg_number], df_path['lon_a'][leg_number], df_path['lat_b'][leg_number], df_path['lon_b'][leg_number])\n",
    "    startTemp, endTemp = get_weather(df_path['lat_a'][leg_number], df_path['lon_a'][leg_number], \"temp\"), get_weather(df_path['lat_b'][leg_number], df_path['lon_b'][leg_number], \"temp\")\n",
    "\n",
    "    if high_diff < 0:\n",
    "        flightPattern = \"descend\"\n",
    "    if high_diff > 0:\n",
    "        flightPattern = \"climb\"\n",
    "    # avgROC, avgFC = getFlightData.getFlightLegData(aircraftType, flightPattern, weight_tot, current_fuel, startTemp, endTemp, df_path['high_a(m)'][leg_number], df_path['high_b(m)'][leg_number])\n",
    "    # avgROC_lev, avgFC_lev = getFlightData.getFlightLegData(aircraftType, [\"leveled flight\"], weight_tot, current_fuel, startTemp, endTemp, df_path['high_a(m)'][leg_number], df_path['high_b(m)'][leg_number])\n",
    "    avgROC = 10  ##\n",
    "    avgFC = 0.007  ##\n",
    "    avgFC_lev = 0.006  ##\n",
    "\n",
    "    if (wind_ref_point == 'start'):  # option for later\n",
    "        wind_speed = get_weather(df_path['lat_a'][leg_number], df_path['lon_a'][leg_number], \"wind_speed\")\n",
    "        wind_deg = get_weather(df_path['lat_a'][leg_number], df_path['lon_a'][leg_number], \"wind_deg\")\n",
    "    else:\n",
    "        wind_speed = get_weather(df_path['lat_b'][leg_number], df_path['lon_b'][leg_number], \"wind_speed\")\n",
    "        wind_deg = get_weather(df_path['lat_b'][leg_number], df_path['lon_b'][leg_number], \"wind_deg\")\n",
    "    Aspeed = get_Aspeed(aircraft_weight + current_fuel)\n",
    "    Gspeed = clc_Gspeed(az, wind_speed, wind_deg, Aspeed)\n",
    "\n",
    "    # calculate flight time from a to b\n",
    "    time_dist = (distance / Gspeed) * 100 / 6  # 6min/100 -- time of flight from point a to b in minutes\n",
    "    time_alt = high_diff / avgROC  # min -- time to climb or descend from point 1 to point b in minutes\n",
    "    time_of_leg = max(time_dist, time_alt)\n",
    "\n",
    "    # Fuel consumption from a to b\n",
    "    if time_of_leg == time_alt:\n",
    "        fuel_decrease = avgFC * time_of_leg\n",
    "    elif time_of_leg == time_dist:\n",
    "        fuel_decrease = avgFC * time_alt\n",
    "        fuel_decrease += avgFC_lev * (time_dist - time_alt)\n",
    "    new_fuel = current_fuel - fuel_decrease\n",
    "    if new_fuel <= 0:\n",
    "        print(\"out of fuel\")\n",
    "        new_fuel = 0\n",
    "\n",
    "    # add data to dataFrame\n",
    "    df_path.loc[leg_number, 'dist'] = distance\n",
    "    df_path.loc[leg_number, 'high_diff'] = high_diff\n",
    "    df_path.loc[leg_number, 'az'] = az\n",
    "    df_path.loc[leg_number, 'Gspeed'] = Gspeed\n",
    "    df_path.loc[leg_number, 'Aspeed'] = Aspeed\n",
    "    df_path.loc[leg_number, 'time_dist'] = time_dist\n",
    "    df_path.loc[leg_number, 'time_climb/descend'] = time_alt\n",
    "    df_path.loc[leg_number, 'time_of_leg'] = time_of_leg\n",
    "    df_path.loc[leg_number, 'current_fuel'] = new_fuel\n",
    "\n",
    "    return time_of_leg, new_fuel\n"
   ]
  },
  {
   "cell_type": "code",
   "execution_count": 9,
   "metadata": {},
   "outputs": [],
   "source": [
    "def clc_path_FlightTime_FuelWeist(start_fuel, aircraftType):\n",
    "    leg_number = int(len(df_path['lat_a']))\n",
    "    wind_ref_point = 'start'  ###\n",
    "    current_fuel = start_fuel\n",
    "    total = 0\n",
    "    for i in range(leg_number):\n",
    "        time_of_leg, current_fuel = clc_leg_FlightTime_FuelWeist(i, wind_ref_point, aircraftType, current_fuel)\n",
    "        total += time_of_leg\n",
    "    # add total time to csv at the last row of time_of_leg\n",
    "    df_path.loc[leg_number+1, 'time_of_leg'] = total\n",
    "    df_path.to_csv(\"path.csv\")  #update csv\n",
    "    return total, current_fuel"
   ]
  },
  {
   "cell_type": "raw",
   "metadata": {},
   "source": [
    "check if code working"
   ]
  },
  {
   "cell_type": "code",
   "execution_count": 11,
   "metadata": {},
   "outputs": [
    {
     "ename": "NameError",
     "evalue": "name 'hs' is not defined",
     "output_type": "error",
     "traceback": [
      "\u001b[1;31m---------------------------------------------------------------------------\u001b[0m",
      "\u001b[1;31mNameError\u001b[0m                                 Traceback (most recent call last)",
      "\u001b[1;32m<ipython-input-11-705256693438>\u001b[0m in \u001b[0;36m<module>\u001b[1;34m\u001b[0m\n\u001b[1;32m----> 1\u001b[1;33m \u001b[0mtest_total\u001b[0m\u001b[1;33m,\u001b[0m \u001b[0mtest_fuel\u001b[0m \u001b[1;33m=\u001b[0m \u001b[0mclc_path_FlightTime_FuelWeist\u001b[0m\u001b[1;33m(\u001b[0m\u001b[1;36m550\u001b[0m\u001b[1;33m,\u001b[0m \u001b[1;34m'Airbus'\u001b[0m\u001b[1;33m)\u001b[0m\u001b[1;33m\u001b[0m\u001b[1;33m\u001b[0m\u001b[0m\n\u001b[0m\u001b[0;32m      2\u001b[0m \u001b[0mprint\u001b[0m\u001b[1;33m(\u001b[0m\u001b[0mtest_total\u001b[0m\u001b[1;33m,\u001b[0m \u001b[0mtest_fuel\u001b[0m\u001b[1;33m)\u001b[0m\u001b[1;33m\u001b[0m\u001b[1;33m\u001b[0m\u001b[0m\n",
      "\u001b[1;32m<ipython-input-9-2d103e769521>\u001b[0m in \u001b[0;36mclc_path_FlightTime_FuelWeist\u001b[1;34m(start_fuel, aircraftType)\u001b[0m\n\u001b[0;32m      5\u001b[0m     \u001b[0mtotal\u001b[0m \u001b[1;33m=\u001b[0m \u001b[1;36m0\u001b[0m\u001b[1;33m\u001b[0m\u001b[1;33m\u001b[0m\u001b[0m\n\u001b[0;32m      6\u001b[0m     \u001b[1;32mfor\u001b[0m \u001b[0mi\u001b[0m \u001b[1;32min\u001b[0m \u001b[0mrange\u001b[0m\u001b[1;33m(\u001b[0m\u001b[0mleg_number\u001b[0m\u001b[1;33m)\u001b[0m\u001b[1;33m:\u001b[0m\u001b[1;33m\u001b[0m\u001b[1;33m\u001b[0m\u001b[0m\n\u001b[1;32m----> 7\u001b[1;33m         \u001b[0mtime_of_leg\u001b[0m\u001b[1;33m,\u001b[0m \u001b[0mcurrent_fuel\u001b[0m \u001b[1;33m=\u001b[0m \u001b[0mclc_leg_FlightTime_FuelWeist\u001b[0m\u001b[1;33m(\u001b[0m\u001b[0mi\u001b[0m\u001b[1;33m,\u001b[0m \u001b[0mwind_ref_point\u001b[0m\u001b[1;33m,\u001b[0m \u001b[0maircraftType\u001b[0m\u001b[1;33m,\u001b[0m \u001b[0mcurrent_fuel\u001b[0m\u001b[1;33m)\u001b[0m\u001b[1;33m\u001b[0m\u001b[1;33m\u001b[0m\u001b[0m\n\u001b[0m\u001b[0;32m      8\u001b[0m         \u001b[0mtotal\u001b[0m \u001b[1;33m+=\u001b[0m \u001b[0mtime_of_leg\u001b[0m\u001b[1;33m\u001b[0m\u001b[1;33m\u001b[0m\u001b[0m\n\u001b[0;32m      9\u001b[0m     \u001b[1;31m# add total time to csv at the last row of time_of_leg\u001b[0m\u001b[1;33m\u001b[0m\u001b[1;33m\u001b[0m\u001b[1;33m\u001b[0m\u001b[0m\n",
      "\u001b[1;32m<ipython-input-8-317699d19176>\u001b[0m in \u001b[0;36mclc_leg_FlightTime_FuelWeist\u001b[1;34m(leg_number, wind_ref_point, aircraftType, current_fuel)\u001b[0m\n\u001b[0;32m      3\u001b[0m     \u001b[0mweight_tot\u001b[0m \u001b[1;33m=\u001b[0m \u001b[0mcurrent_fuel\u001b[0m \u001b[1;33m+\u001b[0m \u001b[0maircraft_weight\u001b[0m  \u001b[1;31m# (need to add aircraft weight by aircraft type)\u001b[0m\u001b[1;33m\u001b[0m\u001b[1;33m\u001b[0m\u001b[0m\n\u001b[0;32m      4\u001b[0m \u001b[1;33m\u001b[0m\u001b[0m\n\u001b[1;32m----> 5\u001b[1;33m     \u001b[0mdistance\u001b[0m \u001b[1;33m=\u001b[0m \u001b[0mclc_dist_between_2points\u001b[0m\u001b[1;33m(\u001b[0m\u001b[0mdf_path\u001b[0m\u001b[1;33m[\u001b[0m\u001b[1;34m'lat_a'\u001b[0m\u001b[1;33m]\u001b[0m\u001b[1;33m[\u001b[0m\u001b[0mleg_number\u001b[0m\u001b[1;33m]\u001b[0m\u001b[1;33m,\u001b[0m \u001b[0mdf_path\u001b[0m\u001b[1;33m[\u001b[0m\u001b[1;34m'lon_a'\u001b[0m\u001b[1;33m]\u001b[0m\u001b[1;33m[\u001b[0m\u001b[0mleg_number\u001b[0m\u001b[1;33m]\u001b[0m\u001b[1;33m,\u001b[0m \u001b[0mdf_path\u001b[0m\u001b[1;33m[\u001b[0m\u001b[1;34m'lat_b'\u001b[0m\u001b[1;33m]\u001b[0m\u001b[1;33m[\u001b[0m\u001b[0mleg_number\u001b[0m\u001b[1;33m]\u001b[0m\u001b[1;33m,\u001b[0m \u001b[0mdf_path\u001b[0m\u001b[1;33m[\u001b[0m\u001b[1;34m'lon_b'\u001b[0m\u001b[1;33m]\u001b[0m\u001b[1;33m[\u001b[0m\u001b[0mleg_number\u001b[0m\u001b[1;33m]\u001b[0m\u001b[1;33m)\u001b[0m\u001b[1;33m\u001b[0m\u001b[1;33m\u001b[0m\u001b[0m\n\u001b[0m\u001b[0;32m      6\u001b[0m     \u001b[0mhigh_diff\u001b[0m \u001b[1;33m=\u001b[0m \u001b[0mdf_path\u001b[0m\u001b[1;33m[\u001b[0m\u001b[1;34m'high_b(m)'\u001b[0m\u001b[1;33m]\u001b[0m\u001b[1;33m[\u001b[0m\u001b[0mleg_number\u001b[0m\u001b[1;33m]\u001b[0m \u001b[1;33m-\u001b[0m \u001b[0mdf_path\u001b[0m\u001b[1;33m[\u001b[0m\u001b[1;34m'high_a(m)'\u001b[0m\u001b[1;33m]\u001b[0m\u001b[1;33m[\u001b[0m\u001b[0mleg_number\u001b[0m\u001b[1;33m]\u001b[0m\u001b[1;33m\u001b[0m\u001b[1;33m\u001b[0m\u001b[0m\n\u001b[0;32m      7\u001b[0m     \u001b[0maz\u001b[0m \u001b[1;33m=\u001b[0m \u001b[0mclc_azimuth\u001b[0m\u001b[1;33m(\u001b[0m\u001b[0mdf_path\u001b[0m\u001b[1;33m[\u001b[0m\u001b[1;34m'lat_a'\u001b[0m\u001b[1;33m]\u001b[0m\u001b[1;33m[\u001b[0m\u001b[0mleg_number\u001b[0m\u001b[1;33m]\u001b[0m\u001b[1;33m,\u001b[0m \u001b[0mdf_path\u001b[0m\u001b[1;33m[\u001b[0m\u001b[1;34m'lon_a'\u001b[0m\u001b[1;33m]\u001b[0m\u001b[1;33m[\u001b[0m\u001b[0mleg_number\u001b[0m\u001b[1;33m]\u001b[0m\u001b[1;33m,\u001b[0m \u001b[0mdf_path\u001b[0m\u001b[1;33m[\u001b[0m\u001b[1;34m'lat_b'\u001b[0m\u001b[1;33m]\u001b[0m\u001b[1;33m[\u001b[0m\u001b[0mleg_number\u001b[0m\u001b[1;33m]\u001b[0m\u001b[1;33m,\u001b[0m \u001b[0mdf_path\u001b[0m\u001b[1;33m[\u001b[0m\u001b[1;34m'lon_b'\u001b[0m\u001b[1;33m]\u001b[0m\u001b[1;33m[\u001b[0m\u001b[0mleg_number\u001b[0m\u001b[1;33m]\u001b[0m\u001b[1;33m)\u001b[0m\u001b[1;33m\u001b[0m\u001b[1;33m\u001b[0m\u001b[0m\n",
      "\u001b[1;32m<ipython-input-3-d1f6e6d150f1>\u001b[0m in \u001b[0;36mclc_dist_between_2points\u001b[1;34m(lat1, lon1, lat2, lon2)\u001b[0m\n\u001b[0;32m      2\u001b[0m     \u001b[0mcoordinate1\u001b[0m \u001b[1;33m=\u001b[0m \u001b[1;33m(\u001b[0m\u001b[0mlat1\u001b[0m\u001b[1;33m,\u001b[0m \u001b[0mlon1\u001b[0m\u001b[1;33m)\u001b[0m\u001b[1;33m\u001b[0m\u001b[1;33m\u001b[0m\u001b[0m\n\u001b[0;32m      3\u001b[0m     \u001b[0mcoordinate2\u001b[0m \u001b[1;33m=\u001b[0m \u001b[1;33m(\u001b[0m\u001b[0mlat2\u001b[0m\u001b[1;33m,\u001b[0m \u001b[0mlon2\u001b[0m\u001b[1;33m)\u001b[0m\u001b[1;33m\u001b[0m\u001b[1;33m\u001b[0m\u001b[0m\n\u001b[1;32m----> 4\u001b[1;33m     \u001b[0mdist_metre\u001b[0m \u001b[1;33m=\u001b[0m \u001b[0mhs\u001b[0m\u001b[1;33m.\u001b[0m\u001b[0mhaversine\u001b[0m\u001b[1;33m(\u001b[0m\u001b[0mcoordinate1\u001b[0m\u001b[1;33m,\u001b[0m \u001b[0mcoordinate2\u001b[0m\u001b[1;33m,\u001b[0m \u001b[0munit\u001b[0m\u001b[1;33m=\u001b[0m\u001b[0mUnit\u001b[0m\u001b[1;33m.\u001b[0m\u001b[0mMETERS\u001b[0m\u001b[1;33m)\u001b[0m\u001b[1;33m\u001b[0m\u001b[1;33m\u001b[0m\u001b[0m\n\u001b[0m\u001b[0;32m      5\u001b[0m     \u001b[1;32mreturn\u001b[0m \u001b[0mdist_metre\u001b[0m\u001b[1;33m\u001b[0m\u001b[1;33m\u001b[0m\u001b[0m\n",
      "\u001b[1;31mNameError\u001b[0m: name 'hs' is not defined"
     ]
    }
   ],
   "source": [
    "test_total, test_fuel = clc_path_FlightTime_FuelWeist(550, 'Airbus')\n",
    "print(test_total, test_fuel)"
   ]
  },
  {
   "cell_type": "raw",
   "metadata": {},
   "source": [
    "# verify units between all codes (my code- minutes for time and meter for distance)\n",
    "# wind calculate reference point add sometime\n",
    "# yaw (wind)\n",
    "# start fuel, aircraftType, aircraft_weight - add a csv file"
   ]
  },
  {
   "cell_type": "code",
   "execution_count": null,
   "metadata": {},
   "outputs": [],
   "source": []
  }
 ],
 "metadata": {
  "kernelspec": {
   "display_name": "Python 3",
   "language": "python",
   "name": "python3"
  },
  "language_info": {
   "codemirror_mode": {
    "name": "ipython",
    "version": 3
   },
   "file_extension": ".py",
   "mimetype": "text/x-python",
   "name": "python",
   "nbconvert_exporter": "python",
   "pygments_lexer": "ipython3",
   "version": "3.8.5"
  }
 },
 "nbformat": 4,
 "nbformat_minor": 4
}
